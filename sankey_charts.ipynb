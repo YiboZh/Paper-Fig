{
 "cells": [
  {
   "cell_type": "code",
   "execution_count": null,
   "metadata": {},
   "outputs": [],
   "source": [
    "import plotly.graph_objects as go"
   ]
  },
  {
   "cell_type": "code",
   "execution_count": 2,
   "metadata": {},
   "outputs": [],
   "source": [
    "labels = ['LightConditionCode: Unknown', 'LightConditionCode: Daylight', 'LightConditionCode: Darkness', 'LightConditionCode: Darkness, Lighted Road', 'Bac', 'Driver Behavior', 'Driver Information', 'Dynamic Condition', 'Intersection Related', 'Location Type', 'Num Of Vehicles', 'Specific Location And Route Id', 'Time', 'Vehicle Information', 'Work Zone', 'Person Information']\n",
    "node_colors = ['grey', 'grey', 'grey', 'grey', 'rgb(57, 91, 154)', 'rgb(36, 145, 171)', 'rgb(121, 220, 220)', 'rgb(101, 190, 123)', 'rgb(249, 210, 133)', 'rgb(248, 108, 124)', 'rgb(240, 199, 210)', 'rgb(183, 125, 212)', 'rgb(218, 27, 97)', 'rgb(239, 228, 241)', 'rgb(74, 77, 104)', 'rgb(68, 86, 47)']\n",
    "sources = [4, 5, 6, 7, 8, 9, 10, 11, 12, 13, 14, 4, 5, 6, 7, 8, 9, 10, 15, 11, 12, 13, 14, 4, 5, 6, 7, 8, 9, 10, 15, 11, 12, 13, 14, 4, 5, 6, 7, 8, 9, 10, 11, 12, 13, 14]\n",
    "targets = [0, 0, 0, 0, 0, 0, 0, 0, 0, 0, 0, 1, 1, 1, 1, 1, 1, 1, 1, 1, 1, 1, 1, 2, 2, 2, 2, 2, 2, 2, 2, 2, 2, 2, 2, 3, 3, 3, 3, 3, 3, 3, 3, 3, 3, 3]\n",
    "values = [1.0, 1.0, 0.0, 0.0, 0.0, 0.0, 0.0, 0.5, 0.0, 0.0, 0.0, 0.9, 0.1, 0.0, 0.0, 0.0, 0.8, 0.0, 0.1, 0.5, 0.1, 0.3, 0.2, 1.0, 0.0, 0.0, 0.0, 0.0, 0.8, 0.0, 0.4, 0.4, 0.0, 0.0, 0.4, 0.75, 0.75, 0.0, 0.25, 0.0, 0.0, 0.0, 0.5, 0.0, 0.0, 0.5]\n",
    "link_colors = ['rgba(57,91,154,1.0)', 'rgba(36,145,171,1.0)', 'rgba(121,220,220,0.0)', 'rgba(101,190,123,0.0)', 'rgba(249,210,133,0.0)', 'rgba(248,108,124,0.0)', 'rgba(240,199,210,0.0)', 'rgba(183,125,212,0.5)', 'rgba(218,27,97,0.0)', 'rgba(239,228,241,0.0)', 'rgba(74,77,104,0.0)', 'rgba(57,91,154,0.9)', 'rgba(36,145,171,0.1)', 'rgba(121,220,220,0.0)', 'rgba(101,190,123,0.0)', 'rgba(249,210,133,0.0)', 'rgba(248,108,124,0.8)', 'rgba(240,199,210,0.0)', 'rgba(68,86,47,0.1)', 'rgba(183,125,212,0.5)', 'rgba(218,27,97,0.1)', 'rgba(239,228,241,0.3)', 'rgba(74,77,104,0.2)', 'rgba(57,91,154,1.0)', 'rgba(36,145,171,0.0)', 'rgba(121,220,220,0.0)', 'rgba(101,190,123,0.0)', 'rgba(249,210,133,0.0)', 'rgba(248,108,124,0.8)', 'rgba(240,199,210,0.0)', 'rgba(68,86,47,0.4)', 'rgba(183,125,212,0.4)', 'rgba(218,27,97,0.0)', 'rgba(239,228,241,0.0)', 'rgba(74,77,104,0.4)', 'rgba(57,91,154,0.75)', 'rgba(36,145,171,0.75)', 'rgba(121,220,220,0.0)', 'rgba(101,190,123,0.25)', 'rgba(249,210,133,0.0)', 'rgba(248,108,124,0.0)', 'rgba(240,199,210,0.0)', 'rgba(183,125,212,0.5)', 'rgba(218,27,97,0.0)', 'rgba(239,228,241,0.0)', 'rgba(74,77,104,0.5)']"
   ]
  },
  {
   "cell_type": "code",
   "execution_count": 3,
   "metadata": {},
   "outputs": [
    {
     "data": {
      "application/vnd.plotly.v1+json": {
       "config": {
        "plotlyServerURL": "https://plot.ly"
       },
       "data": [
        {
         "link": {
          "color": [
           "rgba(57,91,154,1.0)",
           "rgba(36,145,171,1.0)",
           "rgba(121,220,220,0.0)",
           "rgba(101,190,123,0.0)",
           "rgba(249,210,133,0.0)",
           "rgba(248,108,124,0.0)",
           "rgba(240,199,210,0.0)",
           "rgba(183,125,212,0.5)",
           "rgba(218,27,97,0.0)",
           "rgba(239,228,241,0.0)",
           "rgba(74,77,104,0.0)",
           "rgba(57,91,154,0.9)",
           "rgba(36,145,171,0.1)",
           "rgba(121,220,220,0.0)",
           "rgba(101,190,123,0.0)",
           "rgba(249,210,133,0.0)",
           "rgba(248,108,124,0.8)",
           "rgba(240,199,210,0.0)",
           "rgba(68,86,47,0.1)",
           "rgba(183,125,212,0.5)",
           "rgba(218,27,97,0.1)",
           "rgba(239,228,241,0.3)",
           "rgba(74,77,104,0.2)",
           "rgba(57,91,154,1.0)",
           "rgba(36,145,171,0.0)",
           "rgba(121,220,220,0.0)",
           "rgba(101,190,123,0.0)",
           "rgba(249,210,133,0.0)",
           "rgba(248,108,124,0.8)",
           "rgba(240,199,210,0.0)",
           "rgba(68,86,47,0.4)",
           "rgba(183,125,212,0.4)",
           "rgba(218,27,97,0.0)",
           "rgba(239,228,241,0.0)",
           "rgba(74,77,104,0.4)",
           "rgba(57,91,154,0.75)",
           "rgba(36,145,171,0.75)",
           "rgba(121,220,220,0.0)",
           "rgba(101,190,123,0.25)",
           "rgba(249,210,133,0.0)",
           "rgba(248,108,124,0.0)",
           "rgba(240,199,210,0.0)",
           "rgba(183,125,212,0.5)",
           "rgba(218,27,97,0.0)",
           "rgba(239,228,241,0.0)",
           "rgba(74,77,104,0.5)"
          ],
          "source": [
           4,
           5,
           6,
           7,
           8,
           9,
           10,
           11,
           12,
           13,
           14,
           4,
           5,
           6,
           7,
           8,
           9,
           10,
           15,
           11,
           12,
           13,
           14,
           4,
           5,
           6,
           7,
           8,
           9,
           10,
           15,
           11,
           12,
           13,
           14,
           4,
           5,
           6,
           7,
           8,
           9,
           10,
           11,
           12,
           13,
           14
          ],
          "target": [
           0,
           0,
           0,
           0,
           0,
           0,
           0,
           0,
           0,
           0,
           0,
           1,
           1,
           1,
           1,
           1,
           1,
           1,
           1,
           1,
           1,
           1,
           1,
           2,
           2,
           2,
           2,
           2,
           2,
           2,
           2,
           2,
           2,
           2,
           2,
           3,
           3,
           3,
           3,
           3,
           3,
           3,
           3,
           3,
           3,
           3
          ],
          "value": [
           1,
           1,
           0,
           0,
           0,
           0,
           0,
           0.5,
           0,
           0,
           0,
           0.9,
           0.1,
           0,
           0,
           0,
           0.8,
           0,
           0.1,
           0.5,
           0.1,
           0.3,
           0.2,
           1,
           0,
           0,
           0,
           0,
           0.8,
           0,
           0.4,
           0.4,
           0,
           0,
           0.4,
           0.75,
           0.75,
           0,
           0.25,
           0,
           0,
           0,
           0.5,
           0,
           0,
           0.5
          ]
         },
         "node": {
          "color": [
           "grey",
           "grey",
           "grey",
           "grey",
           "rgb(57, 91, 154)",
           "rgb(36, 145, 171)",
           "rgb(121, 220, 220)",
           "rgb(101, 190, 123)",
           "rgb(249, 210, 133)",
           "rgb(248, 108, 124)",
           "rgb(240, 199, 210)",
           "rgb(183, 125, 212)",
           "rgb(218, 27, 97)",
           "rgb(239, 228, 241)",
           "rgb(74, 77, 104)",
           "rgb(68, 86, 47)"
          ],
          "label": [
           "LightConditionCode: Unknown",
           "LightConditionCode: Daylight",
           "LightConditionCode: Darkness",
           "LightConditionCode: Darkness, Lighted Road",
           "Bac",
           "Driver Behavior",
           "Driver Information",
           "Dynamic Condition",
           "Intersection Related",
           "Location Type",
           "Num Of Vehicles",
           "Specific Location And Route Id",
           "Time",
           "Vehicle Information",
           "Work Zone",
           "Person Information"
          ],
          "line": {
           "color": "black",
           "width": 0.5
          },
          "pad": 15,
          "thickness": 20
         },
         "type": "sankey"
        }
       ],
       "layout": {
        "font": {
         "size": 10
        },
        "height": 1200,
        "template": {
         "data": {
          "bar": [
           {
            "error_x": {
             "color": "#2a3f5f"
            },
            "error_y": {
             "color": "#2a3f5f"
            },
            "marker": {
             "line": {
              "color": "#E5ECF6",
              "width": 0.5
             },
             "pattern": {
              "fillmode": "overlay",
              "size": 10,
              "solidity": 0.2
             }
            },
            "type": "bar"
           }
          ],
          "barpolar": [
           {
            "marker": {
             "line": {
              "color": "#E5ECF6",
              "width": 0.5
             },
             "pattern": {
              "fillmode": "overlay",
              "size": 10,
              "solidity": 0.2
             }
            },
            "type": "barpolar"
           }
          ],
          "carpet": [
           {
            "aaxis": {
             "endlinecolor": "#2a3f5f",
             "gridcolor": "white",
             "linecolor": "white",
             "minorgridcolor": "white",
             "startlinecolor": "#2a3f5f"
            },
            "baxis": {
             "endlinecolor": "#2a3f5f",
             "gridcolor": "white",
             "linecolor": "white",
             "minorgridcolor": "white",
             "startlinecolor": "#2a3f5f"
            },
            "type": "carpet"
           }
          ],
          "choropleth": [
           {
            "colorbar": {
             "outlinewidth": 0,
             "ticks": ""
            },
            "type": "choropleth"
           }
          ],
          "contour": [
           {
            "colorbar": {
             "outlinewidth": 0,
             "ticks": ""
            },
            "colorscale": [
             [
              0,
              "#0d0887"
             ],
             [
              0.1111111111111111,
              "#46039f"
             ],
             [
              0.2222222222222222,
              "#7201a8"
             ],
             [
              0.3333333333333333,
              "#9c179e"
             ],
             [
              0.4444444444444444,
              "#bd3786"
             ],
             [
              0.5555555555555556,
              "#d8576b"
             ],
             [
              0.6666666666666666,
              "#ed7953"
             ],
             [
              0.7777777777777778,
              "#fb9f3a"
             ],
             [
              0.8888888888888888,
              "#fdca26"
             ],
             [
              1,
              "#f0f921"
             ]
            ],
            "type": "contour"
           }
          ],
          "contourcarpet": [
           {
            "colorbar": {
             "outlinewidth": 0,
             "ticks": ""
            },
            "type": "contourcarpet"
           }
          ],
          "heatmap": [
           {
            "colorbar": {
             "outlinewidth": 0,
             "ticks": ""
            },
            "colorscale": [
             [
              0,
              "#0d0887"
             ],
             [
              0.1111111111111111,
              "#46039f"
             ],
             [
              0.2222222222222222,
              "#7201a8"
             ],
             [
              0.3333333333333333,
              "#9c179e"
             ],
             [
              0.4444444444444444,
              "#bd3786"
             ],
             [
              0.5555555555555556,
              "#d8576b"
             ],
             [
              0.6666666666666666,
              "#ed7953"
             ],
             [
              0.7777777777777778,
              "#fb9f3a"
             ],
             [
              0.8888888888888888,
              "#fdca26"
             ],
             [
              1,
              "#f0f921"
             ]
            ],
            "type": "heatmap"
           }
          ],
          "heatmapgl": [
           {
            "colorbar": {
             "outlinewidth": 0,
             "ticks": ""
            },
            "colorscale": [
             [
              0,
              "#0d0887"
             ],
             [
              0.1111111111111111,
              "#46039f"
             ],
             [
              0.2222222222222222,
              "#7201a8"
             ],
             [
              0.3333333333333333,
              "#9c179e"
             ],
             [
              0.4444444444444444,
              "#bd3786"
             ],
             [
              0.5555555555555556,
              "#d8576b"
             ],
             [
              0.6666666666666666,
              "#ed7953"
             ],
             [
              0.7777777777777778,
              "#fb9f3a"
             ],
             [
              0.8888888888888888,
              "#fdca26"
             ],
             [
              1,
              "#f0f921"
             ]
            ],
            "type": "heatmapgl"
           }
          ],
          "histogram": [
           {
            "marker": {
             "pattern": {
              "fillmode": "overlay",
              "size": 10,
              "solidity": 0.2
             }
            },
            "type": "histogram"
           }
          ],
          "histogram2d": [
           {
            "colorbar": {
             "outlinewidth": 0,
             "ticks": ""
            },
            "colorscale": [
             [
              0,
              "#0d0887"
             ],
             [
              0.1111111111111111,
              "#46039f"
             ],
             [
              0.2222222222222222,
              "#7201a8"
             ],
             [
              0.3333333333333333,
              "#9c179e"
             ],
             [
              0.4444444444444444,
              "#bd3786"
             ],
             [
              0.5555555555555556,
              "#d8576b"
             ],
             [
              0.6666666666666666,
              "#ed7953"
             ],
             [
              0.7777777777777778,
              "#fb9f3a"
             ],
             [
              0.8888888888888888,
              "#fdca26"
             ],
             [
              1,
              "#f0f921"
             ]
            ],
            "type": "histogram2d"
           }
          ],
          "histogram2dcontour": [
           {
            "colorbar": {
             "outlinewidth": 0,
             "ticks": ""
            },
            "colorscale": [
             [
              0,
              "#0d0887"
             ],
             [
              0.1111111111111111,
              "#46039f"
             ],
             [
              0.2222222222222222,
              "#7201a8"
             ],
             [
              0.3333333333333333,
              "#9c179e"
             ],
             [
              0.4444444444444444,
              "#bd3786"
             ],
             [
              0.5555555555555556,
              "#d8576b"
             ],
             [
              0.6666666666666666,
              "#ed7953"
             ],
             [
              0.7777777777777778,
              "#fb9f3a"
             ],
             [
              0.8888888888888888,
              "#fdca26"
             ],
             [
              1,
              "#f0f921"
             ]
            ],
            "type": "histogram2dcontour"
           }
          ],
          "mesh3d": [
           {
            "colorbar": {
             "outlinewidth": 0,
             "ticks": ""
            },
            "type": "mesh3d"
           }
          ],
          "parcoords": [
           {
            "line": {
             "colorbar": {
              "outlinewidth": 0,
              "ticks": ""
             }
            },
            "type": "parcoords"
           }
          ],
          "pie": [
           {
            "automargin": true,
            "type": "pie"
           }
          ],
          "scatter": [
           {
            "fillpattern": {
             "fillmode": "overlay",
             "size": 10,
             "solidity": 0.2
            },
            "type": "scatter"
           }
          ],
          "scatter3d": [
           {
            "line": {
             "colorbar": {
              "outlinewidth": 0,
              "ticks": ""
             }
            },
            "marker": {
             "colorbar": {
              "outlinewidth": 0,
              "ticks": ""
             }
            },
            "type": "scatter3d"
           }
          ],
          "scattercarpet": [
           {
            "marker": {
             "colorbar": {
              "outlinewidth": 0,
              "ticks": ""
             }
            },
            "type": "scattercarpet"
           }
          ],
          "scattergeo": [
           {
            "marker": {
             "colorbar": {
              "outlinewidth": 0,
              "ticks": ""
             }
            },
            "type": "scattergeo"
           }
          ],
          "scattergl": [
           {
            "marker": {
             "colorbar": {
              "outlinewidth": 0,
              "ticks": ""
             }
            },
            "type": "scattergl"
           }
          ],
          "scattermapbox": [
           {
            "marker": {
             "colorbar": {
              "outlinewidth": 0,
              "ticks": ""
             }
            },
            "type": "scattermapbox"
           }
          ],
          "scatterpolar": [
           {
            "marker": {
             "colorbar": {
              "outlinewidth": 0,
              "ticks": ""
             }
            },
            "type": "scatterpolar"
           }
          ],
          "scatterpolargl": [
           {
            "marker": {
             "colorbar": {
              "outlinewidth": 0,
              "ticks": ""
             }
            },
            "type": "scatterpolargl"
           }
          ],
          "scatterternary": [
           {
            "marker": {
             "colorbar": {
              "outlinewidth": 0,
              "ticks": ""
             }
            },
            "type": "scatterternary"
           }
          ],
          "surface": [
           {
            "colorbar": {
             "outlinewidth": 0,
             "ticks": ""
            },
            "colorscale": [
             [
              0,
              "#0d0887"
             ],
             [
              0.1111111111111111,
              "#46039f"
             ],
             [
              0.2222222222222222,
              "#7201a8"
             ],
             [
              0.3333333333333333,
              "#9c179e"
             ],
             [
              0.4444444444444444,
              "#bd3786"
             ],
             [
              0.5555555555555556,
              "#d8576b"
             ],
             [
              0.6666666666666666,
              "#ed7953"
             ],
             [
              0.7777777777777778,
              "#fb9f3a"
             ],
             [
              0.8888888888888888,
              "#fdca26"
             ],
             [
              1,
              "#f0f921"
             ]
            ],
            "type": "surface"
           }
          ],
          "table": [
           {
            "cells": {
             "fill": {
              "color": "#EBF0F8"
             },
             "line": {
              "color": "white"
             }
            },
            "header": {
             "fill": {
              "color": "#C8D4E3"
             },
             "line": {
              "color": "white"
             }
            },
            "type": "table"
           }
          ]
         },
         "layout": {
          "annotationdefaults": {
           "arrowcolor": "#2a3f5f",
           "arrowhead": 0,
           "arrowwidth": 1
          },
          "autotypenumbers": "strict",
          "coloraxis": {
           "colorbar": {
            "outlinewidth": 0,
            "ticks": ""
           }
          },
          "colorscale": {
           "diverging": [
            [
             0,
             "#8e0152"
            ],
            [
             0.1,
             "#c51b7d"
            ],
            [
             0.2,
             "#de77ae"
            ],
            [
             0.3,
             "#f1b6da"
            ],
            [
             0.4,
             "#fde0ef"
            ],
            [
             0.5,
             "#f7f7f7"
            ],
            [
             0.6,
             "#e6f5d0"
            ],
            [
             0.7,
             "#b8e186"
            ],
            [
             0.8,
             "#7fbc41"
            ],
            [
             0.9,
             "#4d9221"
            ],
            [
             1,
             "#276419"
            ]
           ],
           "sequential": [
            [
             0,
             "#0d0887"
            ],
            [
             0.1111111111111111,
             "#46039f"
            ],
            [
             0.2222222222222222,
             "#7201a8"
            ],
            [
             0.3333333333333333,
             "#9c179e"
            ],
            [
             0.4444444444444444,
             "#bd3786"
            ],
            [
             0.5555555555555556,
             "#d8576b"
            ],
            [
             0.6666666666666666,
             "#ed7953"
            ],
            [
             0.7777777777777778,
             "#fb9f3a"
            ],
            [
             0.8888888888888888,
             "#fdca26"
            ],
            [
             1,
             "#f0f921"
            ]
           ],
           "sequentialminus": [
            [
             0,
             "#0d0887"
            ],
            [
             0.1111111111111111,
             "#46039f"
            ],
            [
             0.2222222222222222,
             "#7201a8"
            ],
            [
             0.3333333333333333,
             "#9c179e"
            ],
            [
             0.4444444444444444,
             "#bd3786"
            ],
            [
             0.5555555555555556,
             "#d8576b"
            ],
            [
             0.6666666666666666,
             "#ed7953"
            ],
            [
             0.7777777777777778,
             "#fb9f3a"
            ],
            [
             0.8888888888888888,
             "#fdca26"
            ],
            [
             1,
             "#f0f921"
            ]
           ]
          },
          "colorway": [
           "#636efa",
           "#EF553B",
           "#00cc96",
           "#ab63fa",
           "#FFA15A",
           "#19d3f3",
           "#FF6692",
           "#B6E880",
           "#FF97FF",
           "#FECB52"
          ],
          "font": {
           "color": "#2a3f5f"
          },
          "geo": {
           "bgcolor": "white",
           "lakecolor": "white",
           "landcolor": "#E5ECF6",
           "showlakes": true,
           "showland": true,
           "subunitcolor": "white"
          },
          "hoverlabel": {
           "align": "left"
          },
          "hovermode": "closest",
          "mapbox": {
           "style": "light"
          },
          "paper_bgcolor": "white",
          "plot_bgcolor": "#E5ECF6",
          "polar": {
           "angularaxis": {
            "gridcolor": "white",
            "linecolor": "white",
            "ticks": ""
           },
           "bgcolor": "#E5ECF6",
           "radialaxis": {
            "gridcolor": "white",
            "linecolor": "white",
            "ticks": ""
           }
          },
          "scene": {
           "xaxis": {
            "backgroundcolor": "#E5ECF6",
            "gridcolor": "white",
            "gridwidth": 2,
            "linecolor": "white",
            "showbackground": true,
            "ticks": "",
            "zerolinecolor": "white"
           },
           "yaxis": {
            "backgroundcolor": "#E5ECF6",
            "gridcolor": "white",
            "gridwidth": 2,
            "linecolor": "white",
            "showbackground": true,
            "ticks": "",
            "zerolinecolor": "white"
           },
           "zaxis": {
            "backgroundcolor": "#E5ECF6",
            "gridcolor": "white",
            "gridwidth": 2,
            "linecolor": "white",
            "showbackground": true,
            "ticks": "",
            "zerolinecolor": "white"
           }
          },
          "shapedefaults": {
           "line": {
            "color": "#2a3f5f"
           }
          },
          "ternary": {
           "aaxis": {
            "gridcolor": "white",
            "linecolor": "white",
            "ticks": ""
           },
           "baxis": {
            "gridcolor": "white",
            "linecolor": "white",
            "ticks": ""
           },
           "bgcolor": "#E5ECF6",
           "caxis": {
            "gridcolor": "white",
            "linecolor": "white",
            "ticks": ""
           }
          },
          "title": {
           "x": 0.05
          },
          "xaxis": {
           "automargin": true,
           "gridcolor": "white",
           "linecolor": "white",
           "ticks": "",
           "title": {
            "standoff": 15
           },
           "zerolinecolor": "white",
           "zerolinewidth": 2
          },
          "yaxis": {
           "automargin": true,
           "gridcolor": "white",
           "linecolor": "white",
           "ticks": "",
           "title": {
            "standoff": 15
           },
           "zerolinecolor": "white",
           "zerolinewidth": 2
          }
         }
        },
        "title": {
         "text": "Top5 Positive Shapley Analysis of Severity(FATAL) in IL - Sankey Diagram"
        },
        "width": 800
       }
      }
     },
     "metadata": {},
     "output_type": "display_data"
    }
   ],
   "source": [
    "fig = go.Figure(go.Sankey(\n",
    "    node=dict(\n",
    "        pad=15,\n",
    "        thickness=20,\n",
    "        line=dict(color=\"black\", width=0.5),\n",
    "        label=labels,\n",
    "        color=node_colors\n",
    "    ),\n",
    "    link=dict(\n",
    "        source=sources,\n",
    "        target=targets,\n",
    "        value=values,\n",
    "        color=link_colors\n",
    "    )\n",
    "))\n",
    "\n",
    "fig.update_layout(\n",
    "    title_text=\"Top5 Positive Shapley Analysis of Severity(FATAL) in IL - Sankey Diagram\",\n",
    "    font_size=10,\n",
    "    width=800,\n",
    "    height=1200\n",
    ")\n",
    "fig.show()\n",
    "fig.write_image(\"top5_positive_IL_sev_FATAL_LightConditionCode_sankey.pdf\", format=\"pdf\", engine=\"kaleido\")"
   ]
  },
  {
   "cell_type": "code",
   "execution_count": null,
   "metadata": {},
   "outputs": [],
   "source": []
  }
 ],
 "metadata": {
  "kernelspec": {
   "display_name": "mlpy311",
   "language": "python",
   "name": "python3"
  },
  "language_info": {
   "codemirror_mode": {
    "name": "ipython",
    "version": 3
   },
   "file_extension": ".py",
   "mimetype": "text/x-python",
   "name": "python",
   "nbconvert_exporter": "python",
   "pygments_lexer": "ipython3",
   "version": "3.11.8"
  }
 },
 "nbformat": 4,
 "nbformat_minor": 2
}
