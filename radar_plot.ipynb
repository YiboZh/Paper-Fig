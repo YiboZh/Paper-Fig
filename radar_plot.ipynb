{
 "cells": [
  {
   "cell_type": "code",
   "execution_count": null,
   "metadata": {},
   "outputs": [],
   "source": [
    "import pandas as pd\n",
    "import plotly.graph_objs as go\n",
    "import plotly.offline as pyo\n",
    "import os"
   ]
  },
  {
   "cell_type": "code",
   "execution_count": 3,
   "metadata": {},
   "outputs": [],
   "source": [
    "SAMPLE_DATA = {\n",
    "    'state': 'IL',\n",
    "    'label': 'FATAL',\n",
    "    'topk': 3,\n",
    "    'features': ['BAC', 'cause of crash', 'driver information', 'dynamic condition', 'intersection related', 'location type', 'num of vehicles', 'person information', 'specific location and route ID', 'time', 'vehicle information', 'work zone'],\n",
    "    'avg_positive': [0.155447123539857, 0.1120321328848092, 0.0456962695169951, 0.0099706550875836, 0.0048780487804878, 0.0990414734959551, 0.0236351831579134, 0.0, 0.0584680839860688, 0.0547746646461932, 0.0139575288294397, 0.0187350364830606, 0.0465709171680576],\n",
    "    'avg_negative': [0.1170764868685747, 0.3393624334613537, 0.2777229598164427, 0.2572568497164587, 0.1519634730326408, 0.2498509536510904, 0.2224060028312215, 0.0, 0.0927285292286164, 0.3953802275225382, 0.245938741335926, 0.1445186207845508, 0.2254970982796407],\n",
    "    'label_positive': [0.7307692307692307, 0.0384615384615384, 0.0, 0.0, 0.0, 0.1153846153846153, 0.0, 0.0384615384615384, 0.1153846153846153, 0.0, 0.0, 0.0384615384615384, 0.2],\n",
    "    'label_negative': [0.0384615384615384, 0.3076923076923077, 0.5, 0.3846153846153846, 0.0769230769230769, 0.0, 0.4615384615384615, 0.0769230769230769, 0.3461538461538461, 0.3461538461538461, 0.0, 0.2307692307692307, 0.1846153846153846]\n",
    "}"
   ]
  },
  {
   "cell_type": "code",
   "execution_count": 4,
   "metadata": {},
   "outputs": [],
   "source": [
    "def create_radar_plot(data_dict, output_dir=\"./output\", show_plot=True, high_resolution=True):\n",
    "    \"\"\"\n",
    "    Create a radar plot comparing positive and negative Shapley values.\n",
    "    \n",
    "    Parameters:\n",
    "    data_dict (dict): Dictionary containing data (output from extract_data function)\n",
    "    output_dir (str): Directory to save output files\n",
    "    show_plot (bool): Whether to open the plot in browser\n",
    "    high_resolution (bool): Whether to save high-resolution image\n",
    "    \n",
    "    Returns:\n",
    "    None: Saves the plot as HTML and PNG files\n",
    "    \"\"\"\n",
    "    # Extract data from dictionary\n",
    "    state = data_dict['state']\n",
    "    label = data_dict['label']\n",
    "    topk = data_dict['topk']\n",
    "    features = data_dict['features']\n",
    "    avg_data1 = data_dict['avg_positive']\n",
    "    avg_data2 = data_dict['avg_negative']\n",
    "    individual_data1 = data_dict['label_positive']\n",
    "    individual_data2 = data_dict['label_negative']\n",
    "    \n",
    "    # Ensure all lists have the same length\n",
    "    max_len = max(len(avg_data1), len(individual_data1), len(avg_data2), len(individual_data2), len(features))\n",
    "    avg_data1 += [0] * (max_len - len(avg_data1))\n",
    "    avg_data2 += [0] * (max_len - len(avg_data2))\n",
    "    individual_data1 += [0] * (max_len - len(individual_data1))\n",
    "    individual_data2 += [0] * (max_len - len(individual_data2))\n",
    "    features += [\"\"] * (max_len - len(features))\n",
    "    \n",
    "    # Remove invalid entries\n",
    "    for i in range(len(features) - 1, -1, -1):\n",
    "        if (not isinstance(features[i], str) or features[i].strip() == \"\" or pd.isna(features[i]) or\n",
    "            avg_data1[i] is None or pd.isna(avg_data1[i]) or\n",
    "            individual_data1[i] is None or pd.isna(individual_data1[i]) or\n",
    "            avg_data2[i] is None or pd.isna(avg_data2[i]) or\n",
    "            individual_data2[i] is None or pd.isna(individual_data2[i])):\n",
    "            del features[i]\n",
    "            del avg_data1[i]\n",
    "            del individual_data1[i]\n",
    "            del avg_data2[i]\n",
    "            del individual_data2[i]\n",
    "    \n",
    "    # Calculate global min and max for plot scaling\n",
    "    global_min = min(min(avg_data1), min(individual_data1), min(avg_data2), min(individual_data2)) - 0.05\n",
    "    global_max = max(max(avg_data1), max(individual_data1), max(avg_data2), max(individual_data2)) + 0.05\n",
    "    \n",
    "    # Create radar plot data\n",
    "    data_plot = [\n",
    "        go.Scatterpolar(\n",
    "            r=avg_data1 + [avg_data1[0]],\n",
    "            theta=features + [features[0]],\n",
    "            fill=\"toself\",\n",
    "            fillcolor=\"rgba(0, 0, 255, 0.1)\",\n",
    "            name=\"Positive Shapley Average\",\n",
    "        ),\n",
    "        go.Scatterpolar(\n",
    "            r=individual_data1 + [individual_data1[0]],\n",
    "            theta=features + [features[0]],\n",
    "            fill=\"none\",\n",
    "            name=f\"{label.title()} - Positive\",\n",
    "            line=dict(width=2, color=\"red\"),\n",
    "        ),\n",
    "        go.Scatterpolar(\n",
    "            r=avg_data2 + [avg_data2[0]],\n",
    "            theta=features + [features[0]],\n",
    "            fill=\"toself\",\n",
    "            fillcolor=\"rgba(30, 0, 0, 0.1)\",\n",
    "            name=\"Negative Shapley Average\",\n",
    "        ),\n",
    "        go.Scatterpolar(\n",
    "            r=individual_data2 + [individual_data2[0]],\n",
    "            theta=features + [features[0]],\n",
    "            fill=\"none\",\n",
    "            name=f\"{label.title()} - Negative\",\n",
    "            line=dict(width=2, color=\"purple\"),\n",
    "        )\n",
    "    ]\n",
    "    \n",
    "    # Add concentric circles for the grid\n",
    "    radii = [\n",
    "        global_min, \n",
    "        global_min + 0.25 * (global_max - global_min), \n",
    "        global_min + 0.5 * (global_max - global_min), \n",
    "        global_min + 0.75 * (global_max - global_min), \n",
    "        global_max\n",
    "    ]\n",
    "    \n",
    "    for radius in radii:\n",
    "        data_plot.append(\n",
    "            go.Scatterpolar(\n",
    "                r=[radius] * (len(features) + 1),\n",
    "                theta=features + [features[0]],\n",
    "                mode=\"lines\",\n",
    "                line=dict(color=\"rgba(0, 0, 0, 0.5)\", dash=\"dash\", width=1),\n",
    "                showlegend=False,\n",
    "            )\n",
    "        )\n",
    "    \n",
    "    # Create the figure\n",
    "    fig = go.Figure(\n",
    "        data=data_plot,\n",
    "        layout=go.Layout(\n",
    "            title=go.layout.Title(\n",
    "                text=f\"Top{topk} Ratios for Shapley Values of {label.title()} Severity in {state}\",\n",
    "                font=dict(size=17),\n",
    "            ),\n",
    "            polar=dict(\n",
    "                bgcolor=\"white\",\n",
    "                radialaxis=dict(\n",
    "                    visible=True,\n",
    "                    range=[global_min, global_max],\n",
    "                    tickvals=radii,\n",
    "                    showticklabels=False,\n",
    "                ),\n",
    "            ),\n",
    "            showlegend=True,\n",
    "            legend=dict(font=dict(size=16)),\n",
    "            paper_bgcolor=\"white\",\n",
    "            plot_bgcolor=\"white\",\n",
    "        ),\n",
    "    )\n",
    "    \n",
    "    # Create output directory if it doesn't exist\n",
    "    if not os.path.exists(output_dir):\n",
    "        os.makedirs(output_dir)\n",
    "    \n",
    "    # Save plot as HTML and PNG\n",
    "    filename_base = f'{output_dir}/{state}_{label}_top{topk}_all_radar_plot'\n",
    "    pyo.plot(fig, filename=f'{filename_base}.html', auto_open=show_plot)\n",
    "    \n",
    "    # Save high-resolution image if requested\n",
    "    scale = 10 if high_resolution else 1\n",
    "    fig.write_image(f'{filename_base}.png', scale=scale)\n",
    "    \n",
    "    print(f\"Plot saved as {filename_base}.html and {filename_base}.png\")\n",
    "    return fig\n"
   ]
  },
  {
   "cell_type": "code",
   "execution_count": 6,
   "metadata": {},
   "outputs": [
    {
     "name": "stdout",
     "output_type": "stream",
     "text": [
      "Plot saved as .//IL_FATAL_top3_all_radar_plot.html and .//IL_FATAL_top3_all_radar_plot.png\n"
     ]
    },
    {
     "data": {
      "application/vnd.plotly.v1+json": {
       "config": {
        "plotlyServerURL": "https://plot.ly"
       },
       "data": [
        {
         "fill": "toself",
         "fillcolor": "rgba(0, 0, 255, 0.1)",
         "name": "Positive Shapley Average",
         "r": [
          0.155447123539857,
          0.1120321328848092,
          0.0456962695169951,
          0.0099706550875836,
          0.0048780487804878,
          0.0990414734959551,
          0.0236351831579134,
          0,
          0.0584680839860688,
          0.0547746646461932,
          0.0139575288294397,
          0.0187350364830606,
          0.155447123539857
         ],
         "theta": [
          "BAC",
          "cause of crash",
          "driver information",
          "dynamic condition",
          "intersection related",
          "location type",
          "num of vehicles",
          "person information",
          "specific location and route ID",
          "time",
          "vehicle information",
          "work zone",
          "BAC"
         ],
         "type": "scatterpolar"
        },
        {
         "fill": "none",
         "line": {
          "color": "red",
          "width": 2
         },
         "name": "Fatal - Positive",
         "r": [
          0.7307692307692307,
          0.0384615384615384,
          0,
          0,
          0,
          0.1153846153846153,
          0,
          0.0384615384615384,
          0.1153846153846153,
          0,
          0,
          0.0384615384615384,
          0.7307692307692307
         ],
         "theta": [
          "BAC",
          "cause of crash",
          "driver information",
          "dynamic condition",
          "intersection related",
          "location type",
          "num of vehicles",
          "person information",
          "specific location and route ID",
          "time",
          "vehicle information",
          "work zone",
          "BAC"
         ],
         "type": "scatterpolar"
        },
        {
         "fill": "toself",
         "fillcolor": "rgba(30, 0, 0, 0.1)",
         "name": "Negative Shapley Average",
         "r": [
          0.1170764868685747,
          0.3393624334613537,
          0.2777229598164427,
          0.2572568497164587,
          0.1519634730326408,
          0.2498509536510904,
          0.2224060028312215,
          0,
          0.0927285292286164,
          0.3953802275225382,
          0.245938741335926,
          0.1445186207845508,
          0.1170764868685747
         ],
         "theta": [
          "BAC",
          "cause of crash",
          "driver information",
          "dynamic condition",
          "intersection related",
          "location type",
          "num of vehicles",
          "person information",
          "specific location and route ID",
          "time",
          "vehicle information",
          "work zone",
          "BAC"
         ],
         "type": "scatterpolar"
        },
        {
         "fill": "none",
         "line": {
          "color": "purple",
          "width": 2
         },
         "name": "Fatal - Negative",
         "r": [
          0.0384615384615384,
          0.3076923076923077,
          0.5,
          0.3846153846153846,
          0.0769230769230769,
          0,
          0.4615384615384615,
          0.0769230769230769,
          0.3461538461538461,
          0.3461538461538461,
          0,
          0.2307692307692307,
          0.0384615384615384
         ],
         "theta": [
          "BAC",
          "cause of crash",
          "driver information",
          "dynamic condition",
          "intersection related",
          "location type",
          "num of vehicles",
          "person information",
          "specific location and route ID",
          "time",
          "vehicle information",
          "work zone",
          "BAC"
         ],
         "type": "scatterpolar"
        },
        {
         "line": {
          "color": "rgba(0, 0, 0, 0.5)",
          "dash": "dash",
          "width": 1
         },
         "mode": "lines",
         "r": [
          -0.05,
          -0.05,
          -0.05,
          -0.05,
          -0.05,
          -0.05,
          -0.05,
          -0.05,
          -0.05,
          -0.05,
          -0.05,
          -0.05,
          -0.05
         ],
         "showlegend": false,
         "theta": [
          "BAC",
          "cause of crash",
          "driver information",
          "dynamic condition",
          "intersection related",
          "location type",
          "num of vehicles",
          "person information",
          "specific location and route ID",
          "time",
          "vehicle information",
          "work zone",
          "BAC"
         ],
         "type": "scatterpolar"
        },
        {
         "line": {
          "color": "rgba(0, 0, 0, 0.5)",
          "dash": "dash",
          "width": 1
         },
         "mode": "lines",
         "r": [
          0.1576923076923077,
          0.1576923076923077,
          0.1576923076923077,
          0.1576923076923077,
          0.1576923076923077,
          0.1576923076923077,
          0.1576923076923077,
          0.1576923076923077,
          0.1576923076923077,
          0.1576923076923077,
          0.1576923076923077,
          0.1576923076923077,
          0.1576923076923077
         ],
         "showlegend": false,
         "theta": [
          "BAC",
          "cause of crash",
          "driver information",
          "dynamic condition",
          "intersection related",
          "location type",
          "num of vehicles",
          "person information",
          "specific location and route ID",
          "time",
          "vehicle information",
          "work zone",
          "BAC"
         ],
         "type": "scatterpolar"
        },
        {
         "line": {
          "color": "rgba(0, 0, 0, 0.5)",
          "dash": "dash",
          "width": 1
         },
         "mode": "lines",
         "r": [
          0.3653846153846154,
          0.3653846153846154,
          0.3653846153846154,
          0.3653846153846154,
          0.3653846153846154,
          0.3653846153846154,
          0.3653846153846154,
          0.3653846153846154,
          0.3653846153846154,
          0.3653846153846154,
          0.3653846153846154,
          0.3653846153846154,
          0.3653846153846154
         ],
         "showlegend": false,
         "theta": [
          "BAC",
          "cause of crash",
          "driver information",
          "dynamic condition",
          "intersection related",
          "location type",
          "num of vehicles",
          "person information",
          "specific location and route ID",
          "time",
          "vehicle information",
          "work zone",
          "BAC"
         ],
         "type": "scatterpolar"
        },
        {
         "line": {
          "color": "rgba(0, 0, 0, 0.5)",
          "dash": "dash",
          "width": 1
         },
         "mode": "lines",
         "r": [
          0.573076923076923,
          0.573076923076923,
          0.573076923076923,
          0.573076923076923,
          0.573076923076923,
          0.573076923076923,
          0.573076923076923,
          0.573076923076923,
          0.573076923076923,
          0.573076923076923,
          0.573076923076923,
          0.573076923076923,
          0.573076923076923
         ],
         "showlegend": false,
         "theta": [
          "BAC",
          "cause of crash",
          "driver information",
          "dynamic condition",
          "intersection related",
          "location type",
          "num of vehicles",
          "person information",
          "specific location and route ID",
          "time",
          "vehicle information",
          "work zone",
          "BAC"
         ],
         "type": "scatterpolar"
        },
        {
         "line": {
          "color": "rgba(0, 0, 0, 0.5)",
          "dash": "dash",
          "width": 1
         },
         "mode": "lines",
         "r": [
          0.7807692307692308,
          0.7807692307692308,
          0.7807692307692308,
          0.7807692307692308,
          0.7807692307692308,
          0.7807692307692308,
          0.7807692307692308,
          0.7807692307692308,
          0.7807692307692308,
          0.7807692307692308,
          0.7807692307692308,
          0.7807692307692308,
          0.7807692307692308
         ],
         "showlegend": false,
         "theta": [
          "BAC",
          "cause of crash",
          "driver information",
          "dynamic condition",
          "intersection related",
          "location type",
          "num of vehicles",
          "person information",
          "specific location and route ID",
          "time",
          "vehicle information",
          "work zone",
          "BAC"
         ],
         "type": "scatterpolar"
        }
       ],
       "layout": {
        "legend": {
         "font": {
          "size": 16
         }
        },
        "paper_bgcolor": "white",
        "plot_bgcolor": "white",
        "polar": {
         "bgcolor": "white",
         "radialaxis": {
          "range": [
           -0.05,
           0.7807692307692308
          ],
          "showticklabels": false,
          "tickvals": [
           -0.05,
           0.1576923076923077,
           0.3653846153846154,
           0.573076923076923,
           0.7807692307692308
          ],
          "visible": true
         }
        },
        "showlegend": true,
        "template": {
         "data": {
          "bar": [
           {
            "error_x": {
             "color": "#2a3f5f"
            },
            "error_y": {
             "color": "#2a3f5f"
            },
            "marker": {
             "line": {
              "color": "#E5ECF6",
              "width": 0.5
             },
             "pattern": {
              "fillmode": "overlay",
              "size": 10,
              "solidity": 0.2
             }
            },
            "type": "bar"
           }
          ],
          "barpolar": [
           {
            "marker": {
             "line": {
              "color": "#E5ECF6",
              "width": 0.5
             },
             "pattern": {
              "fillmode": "overlay",
              "size": 10,
              "solidity": 0.2
             }
            },
            "type": "barpolar"
           }
          ],
          "carpet": [
           {
            "aaxis": {
             "endlinecolor": "#2a3f5f",
             "gridcolor": "white",
             "linecolor": "white",
             "minorgridcolor": "white",
             "startlinecolor": "#2a3f5f"
            },
            "baxis": {
             "endlinecolor": "#2a3f5f",
             "gridcolor": "white",
             "linecolor": "white",
             "minorgridcolor": "white",
             "startlinecolor": "#2a3f5f"
            },
            "type": "carpet"
           }
          ],
          "choropleth": [
           {
            "colorbar": {
             "outlinewidth": 0,
             "ticks": ""
            },
            "type": "choropleth"
           }
          ],
          "contour": [
           {
            "colorbar": {
             "outlinewidth": 0,
             "ticks": ""
            },
            "colorscale": [
             [
              0,
              "#0d0887"
             ],
             [
              0.1111111111111111,
              "#46039f"
             ],
             [
              0.2222222222222222,
              "#7201a8"
             ],
             [
              0.3333333333333333,
              "#9c179e"
             ],
             [
              0.4444444444444444,
              "#bd3786"
             ],
             [
              0.5555555555555556,
              "#d8576b"
             ],
             [
              0.6666666666666666,
              "#ed7953"
             ],
             [
              0.7777777777777778,
              "#fb9f3a"
             ],
             [
              0.8888888888888888,
              "#fdca26"
             ],
             [
              1,
              "#f0f921"
             ]
            ],
            "type": "contour"
           }
          ],
          "contourcarpet": [
           {
            "colorbar": {
             "outlinewidth": 0,
             "ticks": ""
            },
            "type": "contourcarpet"
           }
          ],
          "heatmap": [
           {
            "colorbar": {
             "outlinewidth": 0,
             "ticks": ""
            },
            "colorscale": [
             [
              0,
              "#0d0887"
             ],
             [
              0.1111111111111111,
              "#46039f"
             ],
             [
              0.2222222222222222,
              "#7201a8"
             ],
             [
              0.3333333333333333,
              "#9c179e"
             ],
             [
              0.4444444444444444,
              "#bd3786"
             ],
             [
              0.5555555555555556,
              "#d8576b"
             ],
             [
              0.6666666666666666,
              "#ed7953"
             ],
             [
              0.7777777777777778,
              "#fb9f3a"
             ],
             [
              0.8888888888888888,
              "#fdca26"
             ],
             [
              1,
              "#f0f921"
             ]
            ],
            "type": "heatmap"
           }
          ],
          "heatmapgl": [
           {
            "colorbar": {
             "outlinewidth": 0,
             "ticks": ""
            },
            "colorscale": [
             [
              0,
              "#0d0887"
             ],
             [
              0.1111111111111111,
              "#46039f"
             ],
             [
              0.2222222222222222,
              "#7201a8"
             ],
             [
              0.3333333333333333,
              "#9c179e"
             ],
             [
              0.4444444444444444,
              "#bd3786"
             ],
             [
              0.5555555555555556,
              "#d8576b"
             ],
             [
              0.6666666666666666,
              "#ed7953"
             ],
             [
              0.7777777777777778,
              "#fb9f3a"
             ],
             [
              0.8888888888888888,
              "#fdca26"
             ],
             [
              1,
              "#f0f921"
             ]
            ],
            "type": "heatmapgl"
           }
          ],
          "histogram": [
           {
            "marker": {
             "pattern": {
              "fillmode": "overlay",
              "size": 10,
              "solidity": 0.2
             }
            },
            "type": "histogram"
           }
          ],
          "histogram2d": [
           {
            "colorbar": {
             "outlinewidth": 0,
             "ticks": ""
            },
            "colorscale": [
             [
              0,
              "#0d0887"
             ],
             [
              0.1111111111111111,
              "#46039f"
             ],
             [
              0.2222222222222222,
              "#7201a8"
             ],
             [
              0.3333333333333333,
              "#9c179e"
             ],
             [
              0.4444444444444444,
              "#bd3786"
             ],
             [
              0.5555555555555556,
              "#d8576b"
             ],
             [
              0.6666666666666666,
              "#ed7953"
             ],
             [
              0.7777777777777778,
              "#fb9f3a"
             ],
             [
              0.8888888888888888,
              "#fdca26"
             ],
             [
              1,
              "#f0f921"
             ]
            ],
            "type": "histogram2d"
           }
          ],
          "histogram2dcontour": [
           {
            "colorbar": {
             "outlinewidth": 0,
             "ticks": ""
            },
            "colorscale": [
             [
              0,
              "#0d0887"
             ],
             [
              0.1111111111111111,
              "#46039f"
             ],
             [
              0.2222222222222222,
              "#7201a8"
             ],
             [
              0.3333333333333333,
              "#9c179e"
             ],
             [
              0.4444444444444444,
              "#bd3786"
             ],
             [
              0.5555555555555556,
              "#d8576b"
             ],
             [
              0.6666666666666666,
              "#ed7953"
             ],
             [
              0.7777777777777778,
              "#fb9f3a"
             ],
             [
              0.8888888888888888,
              "#fdca26"
             ],
             [
              1,
              "#f0f921"
             ]
            ],
            "type": "histogram2dcontour"
           }
          ],
          "mesh3d": [
           {
            "colorbar": {
             "outlinewidth": 0,
             "ticks": ""
            },
            "type": "mesh3d"
           }
          ],
          "parcoords": [
           {
            "line": {
             "colorbar": {
              "outlinewidth": 0,
              "ticks": ""
             }
            },
            "type": "parcoords"
           }
          ],
          "pie": [
           {
            "automargin": true,
            "type": "pie"
           }
          ],
          "scatter": [
           {
            "fillpattern": {
             "fillmode": "overlay",
             "size": 10,
             "solidity": 0.2
            },
            "type": "scatter"
           }
          ],
          "scatter3d": [
           {
            "line": {
             "colorbar": {
              "outlinewidth": 0,
              "ticks": ""
             }
            },
            "marker": {
             "colorbar": {
              "outlinewidth": 0,
              "ticks": ""
             }
            },
            "type": "scatter3d"
           }
          ],
          "scattercarpet": [
           {
            "marker": {
             "colorbar": {
              "outlinewidth": 0,
              "ticks": ""
             }
            },
            "type": "scattercarpet"
           }
          ],
          "scattergeo": [
           {
            "marker": {
             "colorbar": {
              "outlinewidth": 0,
              "ticks": ""
             }
            },
            "type": "scattergeo"
           }
          ],
          "scattergl": [
           {
            "marker": {
             "colorbar": {
              "outlinewidth": 0,
              "ticks": ""
             }
            },
            "type": "scattergl"
           }
          ],
          "scattermapbox": [
           {
            "marker": {
             "colorbar": {
              "outlinewidth": 0,
              "ticks": ""
             }
            },
            "type": "scattermapbox"
           }
          ],
          "scatterpolar": [
           {
            "marker": {
             "colorbar": {
              "outlinewidth": 0,
              "ticks": ""
             }
            },
            "type": "scatterpolar"
           }
          ],
          "scatterpolargl": [
           {
            "marker": {
             "colorbar": {
              "outlinewidth": 0,
              "ticks": ""
             }
            },
            "type": "scatterpolargl"
           }
          ],
          "scatterternary": [
           {
            "marker": {
             "colorbar": {
              "outlinewidth": 0,
              "ticks": ""
             }
            },
            "type": "scatterternary"
           }
          ],
          "surface": [
           {
            "colorbar": {
             "outlinewidth": 0,
             "ticks": ""
            },
            "colorscale": [
             [
              0,
              "#0d0887"
             ],
             [
              0.1111111111111111,
              "#46039f"
             ],
             [
              0.2222222222222222,
              "#7201a8"
             ],
             [
              0.3333333333333333,
              "#9c179e"
             ],
             [
              0.4444444444444444,
              "#bd3786"
             ],
             [
              0.5555555555555556,
              "#d8576b"
             ],
             [
              0.6666666666666666,
              "#ed7953"
             ],
             [
              0.7777777777777778,
              "#fb9f3a"
             ],
             [
              0.8888888888888888,
              "#fdca26"
             ],
             [
              1,
              "#f0f921"
             ]
            ],
            "type": "surface"
           }
          ],
          "table": [
           {
            "cells": {
             "fill": {
              "color": "#EBF0F8"
             },
             "line": {
              "color": "white"
             }
            },
            "header": {
             "fill": {
              "color": "#C8D4E3"
             },
             "line": {
              "color": "white"
             }
            },
            "type": "table"
           }
          ]
         },
         "layout": {
          "annotationdefaults": {
           "arrowcolor": "#2a3f5f",
           "arrowhead": 0,
           "arrowwidth": 1
          },
          "autotypenumbers": "strict",
          "coloraxis": {
           "colorbar": {
            "outlinewidth": 0,
            "ticks": ""
           }
          },
          "colorscale": {
           "diverging": [
            [
             0,
             "#8e0152"
            ],
            [
             0.1,
             "#c51b7d"
            ],
            [
             0.2,
             "#de77ae"
            ],
            [
             0.3,
             "#f1b6da"
            ],
            [
             0.4,
             "#fde0ef"
            ],
            [
             0.5,
             "#f7f7f7"
            ],
            [
             0.6,
             "#e6f5d0"
            ],
            [
             0.7,
             "#b8e186"
            ],
            [
             0.8,
             "#7fbc41"
            ],
            [
             0.9,
             "#4d9221"
            ],
            [
             1,
             "#276419"
            ]
           ],
           "sequential": [
            [
             0,
             "#0d0887"
            ],
            [
             0.1111111111111111,
             "#46039f"
            ],
            [
             0.2222222222222222,
             "#7201a8"
            ],
            [
             0.3333333333333333,
             "#9c179e"
            ],
            [
             0.4444444444444444,
             "#bd3786"
            ],
            [
             0.5555555555555556,
             "#d8576b"
            ],
            [
             0.6666666666666666,
             "#ed7953"
            ],
            [
             0.7777777777777778,
             "#fb9f3a"
            ],
            [
             0.8888888888888888,
             "#fdca26"
            ],
            [
             1,
             "#f0f921"
            ]
           ],
           "sequentialminus": [
            [
             0,
             "#0d0887"
            ],
            [
             0.1111111111111111,
             "#46039f"
            ],
            [
             0.2222222222222222,
             "#7201a8"
            ],
            [
             0.3333333333333333,
             "#9c179e"
            ],
            [
             0.4444444444444444,
             "#bd3786"
            ],
            [
             0.5555555555555556,
             "#d8576b"
            ],
            [
             0.6666666666666666,
             "#ed7953"
            ],
            [
             0.7777777777777778,
             "#fb9f3a"
            ],
            [
             0.8888888888888888,
             "#fdca26"
            ],
            [
             1,
             "#f0f921"
            ]
           ]
          },
          "colorway": [
           "#636efa",
           "#EF553B",
           "#00cc96",
           "#ab63fa",
           "#FFA15A",
           "#19d3f3",
           "#FF6692",
           "#B6E880",
           "#FF97FF",
           "#FECB52"
          ],
          "font": {
           "color": "#2a3f5f"
          },
          "geo": {
           "bgcolor": "white",
           "lakecolor": "white",
           "landcolor": "#E5ECF6",
           "showlakes": true,
           "showland": true,
           "subunitcolor": "white"
          },
          "hoverlabel": {
           "align": "left"
          },
          "hovermode": "closest",
          "mapbox": {
           "style": "light"
          },
          "paper_bgcolor": "white",
          "plot_bgcolor": "#E5ECF6",
          "polar": {
           "angularaxis": {
            "gridcolor": "white",
            "linecolor": "white",
            "ticks": ""
           },
           "bgcolor": "#E5ECF6",
           "radialaxis": {
            "gridcolor": "white",
            "linecolor": "white",
            "ticks": ""
           }
          },
          "scene": {
           "xaxis": {
            "backgroundcolor": "#E5ECF6",
            "gridcolor": "white",
            "gridwidth": 2,
            "linecolor": "white",
            "showbackground": true,
            "ticks": "",
            "zerolinecolor": "white"
           },
           "yaxis": {
            "backgroundcolor": "#E5ECF6",
            "gridcolor": "white",
            "gridwidth": 2,
            "linecolor": "white",
            "showbackground": true,
            "ticks": "",
            "zerolinecolor": "white"
           },
           "zaxis": {
            "backgroundcolor": "#E5ECF6",
            "gridcolor": "white",
            "gridwidth": 2,
            "linecolor": "white",
            "showbackground": true,
            "ticks": "",
            "zerolinecolor": "white"
           }
          },
          "shapedefaults": {
           "line": {
            "color": "#2a3f5f"
           }
          },
          "ternary": {
           "aaxis": {
            "gridcolor": "white",
            "linecolor": "white",
            "ticks": ""
           },
           "baxis": {
            "gridcolor": "white",
            "linecolor": "white",
            "ticks": ""
           },
           "bgcolor": "#E5ECF6",
           "caxis": {
            "gridcolor": "white",
            "linecolor": "white",
            "ticks": ""
           }
          },
          "title": {
           "x": 0.05
          },
          "xaxis": {
           "automargin": true,
           "gridcolor": "white",
           "linecolor": "white",
           "ticks": "",
           "title": {
            "standoff": 15
           },
           "zerolinecolor": "white",
           "zerolinewidth": 2
          },
          "yaxis": {
           "automargin": true,
           "gridcolor": "white",
           "linecolor": "white",
           "ticks": "",
           "title": {
            "standoff": 15
           },
           "zerolinecolor": "white",
           "zerolinewidth": 2
          }
         }
        },
        "title": {
         "font": {
          "size": 17
         },
         "text": "Top3 Ratios for Shapley Values of Fatal Severity in IL"
        }
       }
      }
     },
     "metadata": {},
     "output_type": "display_data"
    }
   ],
   "source": [
    "create_radar_plot(\n",
    "    SAMPLE_DATA, \n",
    "    output_dir='./', \n",
    "    show_plot=True, \n",
    "    high_resolution=True\n",
    ")"
   ]
  },
  {
   "cell_type": "code",
   "execution_count": null,
   "metadata": {},
   "outputs": [],
   "source": []
  }
 ],
 "metadata": {
  "kernelspec": {
   "display_name": "mlpy311",
   "language": "python",
   "name": "python3"
  },
  "language_info": {
   "codemirror_mode": {
    "name": "ipython",
    "version": 3
   },
   "file_extension": ".py",
   "mimetype": "text/x-python",
   "name": "python",
   "nbconvert_exporter": "python",
   "pygments_lexer": "ipython3",
   "version": "3.11.8"
  }
 },
 "nbformat": 4,
 "nbformat_minor": 2
}
