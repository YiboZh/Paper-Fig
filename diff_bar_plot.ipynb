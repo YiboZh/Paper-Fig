{
 "cells": [
  {
   "cell_type": "code",
   "execution_count": 1,
   "metadata": {},
   "outputs": [],
   "source": [
    "import plotly.graph_objects as go"
   ]
  },
  {
   "cell_type": "code",
   "execution_count": 2,
   "metadata": {},
   "outputs": [],
   "source": [
    "data = [\n",
    "    (\"Driver Behavior\", \"Other\", 0, 0.030192299474557222),\n",
    "    (\"Driver Behavior\", \"Improper Driving Behavior\", 0, 0.025939835859643306),\n",
    "    (\"Driver Behavior\", \"Aggressive Driving Behavior\", 0, 0.14236087067251474),\n",
    "    (\"Driver Behavior\", \"Impairment-Related\", 0, 0.10870720512535892),\n",
    "    (\"Driver Behavior\", \"Traffic Control/Right-of-Way Violations\", 0, 0.059803444324595695),\n",
    "    (\"BAC\", \"Unknown or not offered\", 0, 0.02216343476517974),\n",
    "    (\"BAC\", \">=80\", 0, 0.4808653369157912),\n",
    "    (\"BAC\", \"<80\", 0, 0.47121275022682596),\n",
    "    (\"Work Zone\", \"No\", 0, -0.0032566226227484884),\n",
    "    (\"Work Zone\", \"Yes\", 0, 0.10091418860472486),\n",
    "    (\"UserType\", \"Pedalcyclist or Pedestrian\", 0, 0.1682276858720747),\n",
    "    (\"UserType\", \"Other\", 0, 0.006634390128970741),\n",
    "    (\"Roadway Type\", \"Non-Freeway\", 0, 0.1054306915666446),\n",
    "    (\"Roadway Type\", \"Freeway\", 0, 0.05661843837256921),\n",
    "]\n"
   ]
  },
  {
   "cell_type": "code",
   "execution_count": 3,
   "metadata": {},
   "outputs": [
    {
     "data": {
      "application/vnd.plotly.v1+json": {
       "config": {
        "plotlyServerURL": "https://plot.ly"
       },
       "data": [
        {
         "base": 0,
         "hoverinfo": "x+y+name",
         "marker": {
          "color": "#de9cad"
         },
         "orientation": "h",
         "type": "bar",
         "x": [
          0.030192299474557222
         ],
         "y": [
          0
         ]
        },
        {
         "base": 0,
         "hoverinfo": "x+y+name",
         "marker": {
          "color": "#de9cad"
         },
         "orientation": "h",
         "type": "bar",
         "x": [
          0.025939835859643306
         ],
         "y": [
          1
         ]
        },
        {
         "base": 0,
         "hoverinfo": "x+y+name",
         "marker": {
          "color": "#de9cad"
         },
         "orientation": "h",
         "type": "bar",
         "x": [
          0.14236087067251474
         ],
         "y": [
          2
         ]
        },
        {
         "base": 0,
         "hoverinfo": "x+y+name",
         "marker": {
          "color": "#de9cad"
         },
         "orientation": "h",
         "type": "bar",
         "x": [
          0.10870720512535892
         ],
         "y": [
          3
         ]
        },
        {
         "base": 0,
         "hoverinfo": "x+y+name",
         "marker": {
          "color": "#de9cad"
         },
         "orientation": "h",
         "type": "bar",
         "x": [
          0.059803444324595695
         ],
         "y": [
          4
         ]
        },
        {
         "base": 0,
         "hoverinfo": "x+y+name",
         "marker": {
          "color": "#de9cad"
         },
         "orientation": "h",
         "type": "bar",
         "x": [
          0.02216343476517974
         ],
         "y": [
          5
         ]
        },
        {
         "base": 0,
         "hoverinfo": "x+y+name",
         "marker": {
          "color": "#de9cad"
         },
         "orientation": "h",
         "type": "bar",
         "x": [
          0.4808653369157912
         ],
         "y": [
          6
         ]
        },
        {
         "base": 0,
         "hoverinfo": "x+y+name",
         "marker": {
          "color": "#de9cad"
         },
         "orientation": "h",
         "type": "bar",
         "x": [
          0.47121275022682596
         ],
         "y": [
          7
         ]
        },
        {
         "base": 0,
         "hoverinfo": "x+y+name",
         "marker": {
          "color": "#7c9bbf"
         },
         "orientation": "h",
         "type": "bar",
         "x": [
          -0.0032566226227484884
         ],
         "y": [
          8
         ]
        },
        {
         "base": 0,
         "hoverinfo": "x+y+name",
         "marker": {
          "color": "#de9cad"
         },
         "orientation": "h",
         "type": "bar",
         "x": [
          0.10091418860472486
         ],
         "y": [
          9
         ]
        },
        {
         "base": 0,
         "hoverinfo": "x+y+name",
         "marker": {
          "color": "#de9cad"
         },
         "orientation": "h",
         "type": "bar",
         "x": [
          0.1682276858720747
         ],
         "y": [
          10
         ]
        },
        {
         "base": 0,
         "hoverinfo": "x+y+name",
         "marker": {
          "color": "#de9cad"
         },
         "orientation": "h",
         "type": "bar",
         "x": [
          0.006634390128970741
         ],
         "y": [
          11
         ]
        },
        {
         "base": 0,
         "hoverinfo": "x+y+name",
         "marker": {
          "color": "#de9cad"
         },
         "orientation": "h",
         "type": "bar",
         "x": [
          0.1054306915666446
         ],
         "y": [
          12
         ]
        },
        {
         "base": 0,
         "hoverinfo": "x+y+name",
         "marker": {
          "color": "#de9cad"
         },
         "orientation": "h",
         "type": "bar",
         "x": [
          0.05661843837256921
         ],
         "y": [
          13
         ]
        },
        {
         "line": {
          "color": "#de9cad",
          "width": 4
         },
         "mode": "lines",
         "name": "> Start Value",
         "showlegend": true,
         "type": "scatter",
         "x": [
          null
         ],
         "y": [
          null
         ]
        },
        {
         "line": {
          "color": "#7c9bbf",
          "width": 4
         },
         "mode": "lines",
         "name": "< Start Value",
         "showlegend": true,
         "type": "scatter",
         "x": [
          null
         ],
         "y": [
          null
         ]
        }
       ],
       "layout": {
        "barmode": "overlay",
        "height": 350,
        "margin": {
         "b": 50,
         "l": 200,
         "r": 50,
         "t": 50
        },
        "paper_bgcolor": "rgba(0,0,0,0)",
        "plot_bgcolor": "rgba(0,0,0,0)",
        "showlegend": false,
        "template": {
         "data": {
          "bar": [
           {
            "error_x": {
             "color": "#2a3f5f"
            },
            "error_y": {
             "color": "#2a3f5f"
            },
            "marker": {
             "line": {
              "color": "#E5ECF6",
              "width": 0.5
             },
             "pattern": {
              "fillmode": "overlay",
              "size": 10,
              "solidity": 0.2
             }
            },
            "type": "bar"
           }
          ],
          "barpolar": [
           {
            "marker": {
             "line": {
              "color": "#E5ECF6",
              "width": 0.5
             },
             "pattern": {
              "fillmode": "overlay",
              "size": 10,
              "solidity": 0.2
             }
            },
            "type": "barpolar"
           }
          ],
          "carpet": [
           {
            "aaxis": {
             "endlinecolor": "#2a3f5f",
             "gridcolor": "white",
             "linecolor": "white",
             "minorgridcolor": "white",
             "startlinecolor": "#2a3f5f"
            },
            "baxis": {
             "endlinecolor": "#2a3f5f",
             "gridcolor": "white",
             "linecolor": "white",
             "minorgridcolor": "white",
             "startlinecolor": "#2a3f5f"
            },
            "type": "carpet"
           }
          ],
          "choropleth": [
           {
            "colorbar": {
             "outlinewidth": 0,
             "ticks": ""
            },
            "type": "choropleth"
           }
          ],
          "contour": [
           {
            "colorbar": {
             "outlinewidth": 0,
             "ticks": ""
            },
            "colorscale": [
             [
              0,
              "#0d0887"
             ],
             [
              0.1111111111111111,
              "#46039f"
             ],
             [
              0.2222222222222222,
              "#7201a8"
             ],
             [
              0.3333333333333333,
              "#9c179e"
             ],
             [
              0.4444444444444444,
              "#bd3786"
             ],
             [
              0.5555555555555556,
              "#d8576b"
             ],
             [
              0.6666666666666666,
              "#ed7953"
             ],
             [
              0.7777777777777778,
              "#fb9f3a"
             ],
             [
              0.8888888888888888,
              "#fdca26"
             ],
             [
              1,
              "#f0f921"
             ]
            ],
            "type": "contour"
           }
          ],
          "contourcarpet": [
           {
            "colorbar": {
             "outlinewidth": 0,
             "ticks": ""
            },
            "type": "contourcarpet"
           }
          ],
          "heatmap": [
           {
            "colorbar": {
             "outlinewidth": 0,
             "ticks": ""
            },
            "colorscale": [
             [
              0,
              "#0d0887"
             ],
             [
              0.1111111111111111,
              "#46039f"
             ],
             [
              0.2222222222222222,
              "#7201a8"
             ],
             [
              0.3333333333333333,
              "#9c179e"
             ],
             [
              0.4444444444444444,
              "#bd3786"
             ],
             [
              0.5555555555555556,
              "#d8576b"
             ],
             [
              0.6666666666666666,
              "#ed7953"
             ],
             [
              0.7777777777777778,
              "#fb9f3a"
             ],
             [
              0.8888888888888888,
              "#fdca26"
             ],
             [
              1,
              "#f0f921"
             ]
            ],
            "type": "heatmap"
           }
          ],
          "heatmapgl": [
           {
            "colorbar": {
             "outlinewidth": 0,
             "ticks": ""
            },
            "colorscale": [
             [
              0,
              "#0d0887"
             ],
             [
              0.1111111111111111,
              "#46039f"
             ],
             [
              0.2222222222222222,
              "#7201a8"
             ],
             [
              0.3333333333333333,
              "#9c179e"
             ],
             [
              0.4444444444444444,
              "#bd3786"
             ],
             [
              0.5555555555555556,
              "#d8576b"
             ],
             [
              0.6666666666666666,
              "#ed7953"
             ],
             [
              0.7777777777777778,
              "#fb9f3a"
             ],
             [
              0.8888888888888888,
              "#fdca26"
             ],
             [
              1,
              "#f0f921"
             ]
            ],
            "type": "heatmapgl"
           }
          ],
          "histogram": [
           {
            "marker": {
             "pattern": {
              "fillmode": "overlay",
              "size": 10,
              "solidity": 0.2
             }
            },
            "type": "histogram"
           }
          ],
          "histogram2d": [
           {
            "colorbar": {
             "outlinewidth": 0,
             "ticks": ""
            },
            "colorscale": [
             [
              0,
              "#0d0887"
             ],
             [
              0.1111111111111111,
              "#46039f"
             ],
             [
              0.2222222222222222,
              "#7201a8"
             ],
             [
              0.3333333333333333,
              "#9c179e"
             ],
             [
              0.4444444444444444,
              "#bd3786"
             ],
             [
              0.5555555555555556,
              "#d8576b"
             ],
             [
              0.6666666666666666,
              "#ed7953"
             ],
             [
              0.7777777777777778,
              "#fb9f3a"
             ],
             [
              0.8888888888888888,
              "#fdca26"
             ],
             [
              1,
              "#f0f921"
             ]
            ],
            "type": "histogram2d"
           }
          ],
          "histogram2dcontour": [
           {
            "colorbar": {
             "outlinewidth": 0,
             "ticks": ""
            },
            "colorscale": [
             [
              0,
              "#0d0887"
             ],
             [
              0.1111111111111111,
              "#46039f"
             ],
             [
              0.2222222222222222,
              "#7201a8"
             ],
             [
              0.3333333333333333,
              "#9c179e"
             ],
             [
              0.4444444444444444,
              "#bd3786"
             ],
             [
              0.5555555555555556,
              "#d8576b"
             ],
             [
              0.6666666666666666,
              "#ed7953"
             ],
             [
              0.7777777777777778,
              "#fb9f3a"
             ],
             [
              0.8888888888888888,
              "#fdca26"
             ],
             [
              1,
              "#f0f921"
             ]
            ],
            "type": "histogram2dcontour"
           }
          ],
          "mesh3d": [
           {
            "colorbar": {
             "outlinewidth": 0,
             "ticks": ""
            },
            "type": "mesh3d"
           }
          ],
          "parcoords": [
           {
            "line": {
             "colorbar": {
              "outlinewidth": 0,
              "ticks": ""
             }
            },
            "type": "parcoords"
           }
          ],
          "pie": [
           {
            "automargin": true,
            "type": "pie"
           }
          ],
          "scatter": [
           {
            "fillpattern": {
             "fillmode": "overlay",
             "size": 10,
             "solidity": 0.2
            },
            "type": "scatter"
           }
          ],
          "scatter3d": [
           {
            "line": {
             "colorbar": {
              "outlinewidth": 0,
              "ticks": ""
             }
            },
            "marker": {
             "colorbar": {
              "outlinewidth": 0,
              "ticks": ""
             }
            },
            "type": "scatter3d"
           }
          ],
          "scattercarpet": [
           {
            "marker": {
             "colorbar": {
              "outlinewidth": 0,
              "ticks": ""
             }
            },
            "type": "scattercarpet"
           }
          ],
          "scattergeo": [
           {
            "marker": {
             "colorbar": {
              "outlinewidth": 0,
              "ticks": ""
             }
            },
            "type": "scattergeo"
           }
          ],
          "scattergl": [
           {
            "marker": {
             "colorbar": {
              "outlinewidth": 0,
              "ticks": ""
             }
            },
            "type": "scattergl"
           }
          ],
          "scattermapbox": [
           {
            "marker": {
             "colorbar": {
              "outlinewidth": 0,
              "ticks": ""
             }
            },
            "type": "scattermapbox"
           }
          ],
          "scatterpolar": [
           {
            "marker": {
             "colorbar": {
              "outlinewidth": 0,
              "ticks": ""
             }
            },
            "type": "scatterpolar"
           }
          ],
          "scatterpolargl": [
           {
            "marker": {
             "colorbar": {
              "outlinewidth": 0,
              "ticks": ""
             }
            },
            "type": "scatterpolargl"
           }
          ],
          "scatterternary": [
           {
            "marker": {
             "colorbar": {
              "outlinewidth": 0,
              "ticks": ""
             }
            },
            "type": "scatterternary"
           }
          ],
          "surface": [
           {
            "colorbar": {
             "outlinewidth": 0,
             "ticks": ""
            },
            "colorscale": [
             [
              0,
              "#0d0887"
             ],
             [
              0.1111111111111111,
              "#46039f"
             ],
             [
              0.2222222222222222,
              "#7201a8"
             ],
             [
              0.3333333333333333,
              "#9c179e"
             ],
             [
              0.4444444444444444,
              "#bd3786"
             ],
             [
              0.5555555555555556,
              "#d8576b"
             ],
             [
              0.6666666666666666,
              "#ed7953"
             ],
             [
              0.7777777777777778,
              "#fb9f3a"
             ],
             [
              0.8888888888888888,
              "#fdca26"
             ],
             [
              1,
              "#f0f921"
             ]
            ],
            "type": "surface"
           }
          ],
          "table": [
           {
            "cells": {
             "fill": {
              "color": "#EBF0F8"
             },
             "line": {
              "color": "white"
             }
            },
            "header": {
             "fill": {
              "color": "#C8D4E3"
             },
             "line": {
              "color": "white"
             }
            },
            "type": "table"
           }
          ]
         },
         "layout": {
          "annotationdefaults": {
           "arrowcolor": "#2a3f5f",
           "arrowhead": 0,
           "arrowwidth": 1
          },
          "autotypenumbers": "strict",
          "coloraxis": {
           "colorbar": {
            "outlinewidth": 0,
            "ticks": ""
           }
          },
          "colorscale": {
           "diverging": [
            [
             0,
             "#8e0152"
            ],
            [
             0.1,
             "#c51b7d"
            ],
            [
             0.2,
             "#de77ae"
            ],
            [
             0.3,
             "#f1b6da"
            ],
            [
             0.4,
             "#fde0ef"
            ],
            [
             0.5,
             "#f7f7f7"
            ],
            [
             0.6,
             "#e6f5d0"
            ],
            [
             0.7,
             "#b8e186"
            ],
            [
             0.8,
             "#7fbc41"
            ],
            [
             0.9,
             "#4d9221"
            ],
            [
             1,
             "#276419"
            ]
           ],
           "sequential": [
            [
             0,
             "#0d0887"
            ],
            [
             0.1111111111111111,
             "#46039f"
            ],
            [
             0.2222222222222222,
             "#7201a8"
            ],
            [
             0.3333333333333333,
             "#9c179e"
            ],
            [
             0.4444444444444444,
             "#bd3786"
            ],
            [
             0.5555555555555556,
             "#d8576b"
            ],
            [
             0.6666666666666666,
             "#ed7953"
            ],
            [
             0.7777777777777778,
             "#fb9f3a"
            ],
            [
             0.8888888888888888,
             "#fdca26"
            ],
            [
             1,
             "#f0f921"
            ]
           ],
           "sequentialminus": [
            [
             0,
             "#0d0887"
            ],
            [
             0.1111111111111111,
             "#46039f"
            ],
            [
             0.2222222222222222,
             "#7201a8"
            ],
            [
             0.3333333333333333,
             "#9c179e"
            ],
            [
             0.4444444444444444,
             "#bd3786"
            ],
            [
             0.5555555555555556,
             "#d8576b"
            ],
            [
             0.6666666666666666,
             "#ed7953"
            ],
            [
             0.7777777777777778,
             "#fb9f3a"
            ],
            [
             0.8888888888888888,
             "#fdca26"
            ],
            [
             1,
             "#f0f921"
            ]
           ]
          },
          "colorway": [
           "#636efa",
           "#EF553B",
           "#00cc96",
           "#ab63fa",
           "#FFA15A",
           "#19d3f3",
           "#FF6692",
           "#B6E880",
           "#FF97FF",
           "#FECB52"
          ],
          "font": {
           "color": "#2a3f5f"
          },
          "geo": {
           "bgcolor": "white",
           "lakecolor": "white",
           "landcolor": "#E5ECF6",
           "showlakes": true,
           "showland": true,
           "subunitcolor": "white"
          },
          "hoverlabel": {
           "align": "left"
          },
          "hovermode": "closest",
          "mapbox": {
           "style": "light"
          },
          "paper_bgcolor": "white",
          "plot_bgcolor": "#E5ECF6",
          "polar": {
           "angularaxis": {
            "gridcolor": "white",
            "linecolor": "white",
            "ticks": ""
           },
           "bgcolor": "#E5ECF6",
           "radialaxis": {
            "gridcolor": "white",
            "linecolor": "white",
            "ticks": ""
           }
          },
          "scene": {
           "xaxis": {
            "backgroundcolor": "#E5ECF6",
            "gridcolor": "white",
            "gridwidth": 2,
            "linecolor": "white",
            "showbackground": true,
            "ticks": "",
            "zerolinecolor": "white"
           },
           "yaxis": {
            "backgroundcolor": "#E5ECF6",
            "gridcolor": "white",
            "gridwidth": 2,
            "linecolor": "white",
            "showbackground": true,
            "ticks": "",
            "zerolinecolor": "white"
           },
           "zaxis": {
            "backgroundcolor": "#E5ECF6",
            "gridcolor": "white",
            "gridwidth": 2,
            "linecolor": "white",
            "showbackground": true,
            "ticks": "",
            "zerolinecolor": "white"
           }
          },
          "shapedefaults": {
           "line": {
            "color": "#2a3f5f"
           }
          },
          "ternary": {
           "aaxis": {
            "gridcolor": "white",
            "linecolor": "white",
            "ticks": ""
           },
           "baxis": {
            "gridcolor": "white",
            "linecolor": "white",
            "ticks": ""
           },
           "bgcolor": "#E5ECF6",
           "caxis": {
            "gridcolor": "white",
            "linecolor": "white",
            "ticks": ""
           }
          },
          "title": {
           "x": 0.05
          },
          "xaxis": {
           "automargin": true,
           "gridcolor": "white",
           "linecolor": "white",
           "ticks": "",
           "title": {
            "standoff": 15
           },
           "zerolinecolor": "white",
           "zerolinewidth": 2
          },
          "yaxis": {
           "automargin": true,
           "gridcolor": "white",
           "linecolor": "white",
           "ticks": "",
           "title": {
            "standoff": 15
           },
           "zerolinecolor": "white",
           "zerolinewidth": 2
          }
         }
        },
        "title": {
         "text": "Generalized Data Comparison"
        },
        "xaxis": {
         "gridcolor": "lightgray",
         "title": {
          "text": "Correlation values"
         },
         "zeroline": false,
         "zerolinecolor": "gray"
        },
        "yaxis": {
         "autorange": "reversed",
         "ticktext": [
          "Driver Behavior: Other",
          "Driver Behavior: Improper Driving Behavior",
          "Driver Behavior: Aggressive Driving Behavior",
          "Driver Behavior: Impairment-Related",
          "Driver Behavior: Traffic Control/Right-of-Way Violations",
          "BAC: Unknown or not offered",
          "BAC: >=80",
          "BAC: <80",
          "Work Zone: No",
          "Work Zone: Yes",
          "UserType: Pedalcyclist or Pedestrian",
          "UserType: Other",
          "Roadway Type: Non-Freeway",
          "Roadway Type: Freeway"
         ],
         "tickvals": [
          0,
          1,
          2,
          3,
          4,
          5,
          6,
          7,
          8,
          9,
          10,
          11,
          12,
          13
         ]
        }
       }
      }
     },
     "metadata": {},
     "output_type": "display_data"
    }
   ],
   "source": [
    "titles = [f\"{category}: {label}\" for category, label, _, _ in data]\n",
    "start_values = [start for _, _, start, _ in data]\n",
    "end_values = [end for _, _, _, end in data]\n",
    "mean_values = [(start + end) / 2 for start, end in zip(start_values, end_values)]\n",
    "\n",
    "# Determine colors\n",
    "colors = [\"#de9cad\" if end > start else \"#7c9bbf\" for start, end in zip(start_values, end_values)]\n",
    "\n",
    "# Create y positions\n",
    "y_pos = list(range(len(titles)))\n",
    "\n",
    "# Create plot\n",
    "fig = go.Figure()\n",
    "for i, title in enumerate(titles):\n",
    "    fig.add_trace(go.Bar(\n",
    "        x=[end_values[i] - start_values[i]],\n",
    "        y=[y_pos[i]],\n",
    "        base=start_values[i],\n",
    "        orientation='h',\n",
    "        marker=dict(color=colors[i]),\n",
    "        hoverinfo=\"x+y+name\"\n",
    "    ))\n",
    "\n",
    "# Update layout\n",
    "fig.update_layout(\n",
    "    yaxis=dict(\n",
    "        tickvals=y_pos,\n",
    "        ticktext=titles,\n",
    "        autorange=\"reversed\"\n",
    "    ),\n",
    "    xaxis=dict(\n",
    "        title=\"Correlation values\",\n",
    "        gridcolor=\"lightgray\",\n",
    "        zeroline=False,\n",
    "        zerolinecolor=\"gray\"\n",
    "    ),\n",
    "    title=\"Generalized Data Comparison\",\n",
    "    barmode='overlay',\n",
    "    height=25 * len(titles),\n",
    "    margin=dict(l=200, r=50, t=50, b=50),\n",
    "    showlegend=False\n",
    ")\n",
    "\n",
    "# Add line legends\n",
    "fig.add_trace(go.Scatter(\n",
    "    x=[None], y=[None], mode='lines',\n",
    "    line=dict(color=\"#de9cad\", width=4),\n",
    "    name=\"> Start Value\",\n",
    "    showlegend=True\n",
    "))\n",
    "fig.add_trace(go.Scatter(\n",
    "    x=[None], y=[None], mode='lines',\n",
    "    line=dict(color=\"#7c9bbf\", width=4),\n",
    "    name=\"< Start Value\",\n",
    "    showlegend=True\n",
    "))\n",
    "fig.update_layout(\n",
    "    plot_bgcolor=\"rgba(0,0,0,0)\",\n",
    "    paper_bgcolor=\"rgba(0,0,0,0)\"\n",
    ")\n",
    "\n",
    "# Show plot\n",
    "fig.show()\n",
    "# Save to HTML\n",
    "fig.write_html(\"general_comparison.html\")\n"
   ]
  }
 ],
 "metadata": {
  "kernelspec": {
   "display_name": "mlpy311",
   "language": "python",
   "name": "python3"
  },
  "language_info": {
   "codemirror_mode": {
    "name": "ipython",
    "version": 3
   },
   "file_extension": ".py",
   "mimetype": "text/x-python",
   "name": "python",
   "nbconvert_exporter": "python",
   "pygments_lexer": "ipython3",
   "version": "3.11.8"
  }
 },
 "nbformat": 4,
 "nbformat_minor": 2
}
